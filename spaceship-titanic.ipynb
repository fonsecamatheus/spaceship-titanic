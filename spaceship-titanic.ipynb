{
 "cells": [
  {
   "cell_type": "code",
   "execution_count": 1,
   "metadata": {},
   "outputs": [
    {
     "name": "stderr",
     "output_type": "stream",
     "text": [
      "c:\\Users\\matheusfonseca\\AppData\\Local\\Anaconda\\lib\\site-packages\\sklearn\\preprocessing\\_encoders.py:828: FutureWarning: `sparse` was renamed to `sparse_output` in version 1.2 and will be removed in 1.4. `sparse_output` is ignored unless you leave `sparse` to its default value.\n",
      "  warnings.warn(\n",
      "c:\\Users\\matheusfonseca\\AppData\\Local\\Anaconda\\lib\\site-packages\\sklearn\\linear_model\\_logistic.py:458: ConvergenceWarning: lbfgs failed to converge (status=1):\n",
      "STOP: TOTAL NO. of ITERATIONS REACHED LIMIT.\n",
      "\n",
      "Increase the number of iterations (max_iter) or scale the data as shown in:\n",
      "    https://scikit-learn.org/stable/modules/preprocessing.html\n",
      "Please also refer to the documentation for alternative solver options:\n",
      "    https://scikit-learn.org/stable/modules/linear_model.html#logistic-regression\n",
      "  n_iter_i = _check_optimize_result(\n"
     ]
    }
   ],
   "source": [
    "#importando as bibliotecas\n",
    "import pandas as pd\n",
    "import matplotlib.pyplot as plt\n",
    "from sklearn.model_selection import train_test_split\n",
    "from sklearn.linear_model import LogisticRegression\n",
    "from sklearn.ensemble import RandomForestClassifier\n",
    "from sklearn.ensemble import GradientBoostingClassifier\n",
    "from sklearn.preprocessing import OneHotEncoder\n",
    "\n",
    "#lendo os arquivos e armazenando nas variaveis df_treino e df_teste\n",
    "df_treino =  pd.read_csv('train.csv')\n",
    "df_teste = pd.read_csv('test.csv')\n",
    "\n",
    "#definindo as variaveis categoricas e numericas\n",
    "var_categorica = df_treino.select_dtypes(include=['object']).columns\n",
    "var_numerica = df_treino._get_numeric_data().columns\n",
    "\n",
    "#criando um dicionario dict_nulos e armazenando nele a contagem dos valores nulos e df_treinos\n",
    "dict_nulos = {}\n",
    "for i in df_treino.columns:\n",
    "    dict_nulos[i] = df_treino[i].isnull().sum()\n",
    "df_treino_nulos = pd.DataFrame(data=list(dict_nulos.values()), index=list(dict_nulos.keys()), columns=['nulls'])\n",
    "\n",
    "#substituindo os valores nulos pela moda e media nas variaveis \n",
    "for i in var_categorica:\n",
    "    if i != 'Name':\n",
    "        df_treino[i] = df_treino[i].fillna(df_treino[i].mode()[0])\n",
    "\n",
    "for i in var_numerica:\n",
    "    df_treino[i] = df_treino[i].fillna(df_treino[i].mean())\n",
    "\n",
    "#dropando a coluna 'Name' do data frame\n",
    "df_treino.drop(['Name'], axis=1, inplace=True)\n",
    "\n",
    "#tratando e dropando a coluna 'Cabin' e 'HomePlanet'  \n",
    "df_treino['Deck'] = df_treino['Cabin'].apply(lambda s: s[0] if pd.notnull(s) else 'M')\n",
    "df_treino['Port'] = df_treino['Cabin'].apply(lambda s: s[-1] if pd.notnull(s) else 'M')\n",
    "df_treino['Deck'] = df_treino['Deck'].map({'B':0, 'F':1, 'A':2, 'G':3, 'E':4, 'D':5, 'C':6, 'T':7}).astype(int)\n",
    "df_treino['Port'] = df_treino['Port'].map({'P':0, 'S':1}).astype(int)\n",
    "df_treino['HomePlanet'] = df_treino['HomePlanet'].map({'Earth':0, 'Europa':1, 'Mars':2}).astype(int)\n",
    "df_treino.drop(['Cabin'], axis=1, inplace=True)\n",
    "\n",
    "#dropando 'PassenderId' do data frame\n",
    "if 'train' in 'train.csv':\n",
    "    df_treino.drop(['PassengerId'], axis=1, inplace=True)\n",
    "\n",
    "#mapeando os valores unicos em 'VIP', 'CryoSleep', 'Destination' e armazenando para cada variavel respectivamente \n",
    "if 'VIP' in df_treino.columns:\n",
    "    vip_unico = df_treino['VIP'].unique()\n",
    "    df_treino['VIP'] = df_treino['VIP'].map(dict(zip(vip_unico, list(range(len(vip_unico)))))).astype(int)\n",
    "\n",
    "if 'CryoSleep' in df_treino.columns:\n",
    "    cryosleep_unico = df_treino['CryoSleep'].unique()\n",
    "    df_treino['CryoSleep'] = df_treino['CryoSleep'].map(dict(zip(cryosleep_unico, list(range(len(cryosleep_unico)))))).astype(int)\n",
    "\n",
    "if 'Destination' in df_treino.columns:\n",
    "    destination_unico = df_treino['Destination'].unique()\n",
    "    df_treino['Destination'] = df_treino['Destination'].map(dict(zip(destination_unico, list(range(len(destination_unico)))))).astype(int)\n",
    "\n",
    "#preparando o modelo e dropando a coluna 'Transported' \n",
    "X = df_treino.drop('Transported', axis=1)\n",
    "y = df_treino['Transported']\n",
    "\n",
    "#codificando as variaveis categoricas no data frame X\n",
    "var_categorica_colunas = X.select_dtypes(include='object').columns\n",
    "codificador = OneHotEncoder(drop='first', sparse=False)\n",
    "X_codificado = codificador.fit_transform(X[var_categorica_colunas])\n",
    "X_codificado = pd.DataFrame(X_codificado, columns=var_categorica_colunas)\n",
    "X = pd.concat([X.drop(var_categorica_colunas, axis=1), X_codificado], axis=1)\n",
    "\n",
    "#dividindo o data frame em conjuntos de treinamento e teste \n",
    "X_treino, X_teste, y_treino, y_teste = train_test_split(X, y, test_size=0.2, random_state=42)\n",
    "\n",
    "#instanciado os modelos LogisticRegression(), RandomForestClassifier(), GradientBoostingClassifier()\n",
    "lg = LogisticRegression()\n",
    "lg.fit(X_treino, y_treino)\n",
    "lg_score = lg.score(X_teste, y_teste)\n",
    "\n",
    "rf = RandomForestClassifier()\n",
    "rf.fit(X_treino, y_treino)\n",
    "rf_score = rf.score(X_teste, y_teste)\n",
    "\n",
    "gb = GradientBoostingClassifier()\n",
    "gb.fit(X_treino, y_treino)\n",
    "gb_score = gb.score(X_teste, y_teste)\n",
    "\n",
    "#vizualizando a acuracia dos modelos  \n",
    "resultados = pd.DataFrame(dict(model=['Logistic Regression', 'Random Forest', 'Gradient Boosting'],accuracy=[lg_score,rf_score, gb_score]))"
   ]
  },
  {
   "cell_type": "code",
   "execution_count": 2,
   "metadata": {},
   "outputs": [
    {
     "data": {
      "text/html": [
       "<div>\n",
       "<style scoped>\n",
       "    .dataframe tbody tr th:only-of-type {\n",
       "        vertical-align: middle;\n",
       "    }\n",
       "\n",
       "    .dataframe tbody tr th {\n",
       "        vertical-align: top;\n",
       "    }\n",
       "\n",
       "    .dataframe thead th {\n",
       "        text-align: right;\n",
       "    }\n",
       "</style>\n",
       "<table border=\"1\" class=\"dataframe\">\n",
       "  <thead>\n",
       "    <tr style=\"text-align: right;\">\n",
       "      <th></th>\n",
       "      <th>model</th>\n",
       "      <th>accuracy</th>\n",
       "    </tr>\n",
       "  </thead>\n",
       "  <tbody>\n",
       "    <tr>\n",
       "      <th>0</th>\n",
       "      <td>Logistic Regression</td>\n",
       "      <td>0.775733</td>\n",
       "    </tr>\n",
       "    <tr>\n",
       "      <th>1</th>\n",
       "      <td>Random Forest</td>\n",
       "      <td>0.783209</td>\n",
       "    </tr>\n",
       "    <tr>\n",
       "      <th>2</th>\n",
       "      <td>Gradient Boosting</td>\n",
       "      <td>0.785509</td>\n",
       "    </tr>\n",
       "  </tbody>\n",
       "</table>\n",
       "</div>"
      ],
      "text/plain": [
       "                 model  accuracy\n",
       "0  Logistic Regression  0.775733\n",
       "1        Random Forest  0.783209\n",
       "2    Gradient Boosting  0.785509"
      ]
     },
     "execution_count": 2,
     "metadata": {},
     "output_type": "execute_result"
    }
   ],
   "source": [
    "resultados"
   ]
  },
  {
   "cell_type": "code",
   "execution_count": 3,
   "metadata": {},
   "outputs": [
    {
     "data": {
      "text/plain": [
       "(0.5, 1.0)"
      ]
     },
     "execution_count": 3,
     "metadata": {},
     "output_type": "execute_result"
    },
    {
     "data": {
      "image/png": "[encoded data removed]",
      "text/plain": [
       "<Figure size 640x480 with 1 Axes>"
      ]
     },
     "metadata": {},
     "output_type": "display_data"
    }
   ],
   "source": [
    "resultados.plot(kind='bar', x='model', y='accuracy', title='Resultados', legend=False, color=['#1F77B4', '#FF7F0E', '#2CA02C'])\n",
    "plt.ylim(0.5, 1)"
   ]
  }
 ],
 "metadata": {
  "kernelspec": {
   "display_name": "base",
   "language": "python",
   "name": "python3"
  },
  "language_info": {
   "codemirror_mode": {
    "name": "ipython",
    "version": 3
   },
   "file_extension": ".py",
   "mimetype": "text/x-python",
   "name": "python",
   "nbconvert_exporter": "python",
   "pygments_lexer": "ipython3",
   "version": "3.10.9"
  },
  "orig_nbformat": 4
 },
 "nbformat": 4,
 "nbformat_minor": 2
}
